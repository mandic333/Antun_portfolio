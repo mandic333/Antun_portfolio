{
 "cells": [
  {
   "cell_type": "markdown",
   "metadata": {},
   "source": [
    "### Intro to linear algebra with numpy"
   ]
  },
  {
   "cell_type": "code",
   "execution_count": 1,
   "metadata": {},
   "outputs": [],
   "source": [
    "import numpy as np\n",
    "\n",
    "from numpy.linalg import solve, inv\n",
    "from numpy.random import rand"
   ]
  },
  {
   "cell_type": "code",
   "execution_count": 2,
   "metadata": {},
   "outputs": [
    {
     "name": "stdout",
     "output_type": "stream",
     "text": [
      "[[0.32230458 0.96653189 0.01417707]\n",
      " [0.88398645 0.32964595 0.23531107]\n",
      " [0.30036329 0.75306594 0.27281728]\n",
      " [0.33431345 0.72298005 0.28679152]\n",
      " [0.860993   0.08857601 0.75597024]]\n"
     ]
    }
   ],
   "source": [
    "a = np.array([[1, 3, 5], [3, 7, 9], [3, 11, 13]]) #3x3\n",
    "b = np.array([7.07, 9.5, 17]) #1x3\n",
    "c = rand(5, 3) #Polje 5x3 s random vrijednostima\n",
    "\n",
    "print(c)"
   ]
  },
  {
   "cell_type": "code",
   "execution_count": 3,
   "metadata": {},
   "outputs": [
    {
     "name": "stdout",
     "output_type": "stream",
     "text": [
      "[[ 1  3  3]\n",
      " [ 3  7 11]\n",
      " [ 5  9 13]]\n"
     ]
    }
   ],
   "source": [
    "print(a.transpose()) #Transponiranje matrice\n",
    "#(Pretvaranje redaka u stupce)"
   ]
  },
  {
   "cell_type": "code",
   "execution_count": 5,
   "metadata": {},
   "outputs": [
    {
     "name": "stdout",
     "output_type": "stream",
     "text": [
      "[[-0.5    1.    -0.5  ]\n",
      " [-0.75  -0.125  0.375]\n",
      " [ 0.75  -0.125 -0.125]]\n"
     ]
    }
   ],
   "source": [
    "print(inv(a)) #Inverz matrice"
   ]
  },
  {
   "cell_type": "code",
   "execution_count": 6,
   "metadata": {},
   "outputs": [
    {
     "name": "stdout",
     "output_type": "stream",
     "text": [
      "[-2.535 -0.115  1.99 ]\n"
     ]
    }
   ],
   "source": [
    "print(solve(a,b)) #Rješavanje jednadžbe ax = b   "
   ]
  },
  {
   "cell_type": "code",
   "execution_count": 8,
   "metadata": {},
   "outputs": [
    {
     "name": "stdout",
     "output_type": "stream",
     "text": [
      "15.999999999999998\n"
     ]
    }
   ],
   "source": [
    "print(np.linalg.det(a)) #Izračunaj determinantu matrice"
   ]
  },
  {
   "cell_type": "code",
   "execution_count": 9,
   "metadata": {},
   "outputs": [
    {
     "name": "stdout",
     "output_type": "stream",
     "text": [
      "3\n"
     ]
    }
   ],
   "source": [
    "print(np.linalg.matrix_rank(a)) #Izračunaj rang matrice"
   ]
  },
  {
   "cell_type": "code",
   "execution_count": 10,
   "metadata": {},
   "outputs": [
    {
     "name": "stdout",
     "output_type": "stream",
     "text": [
      "[[ 257545  790015  977617]\n",
      " [ 516147 1583269 1959243]\n",
      " [ 750891 2303341 2850307]]\n"
     ]
    }
   ],
   "source": [
    "print(np.linalg.matrix_power(a, 5)) #Dizanje svakog elementa matrice na 5-tu potenciju"
   ]
  }
 ],
 "metadata": {
  "kernelspec": {
   "display_name": "Python 3",
   "language": "python",
   "name": "python3"
  },
  "language_info": {
   "codemirror_mode": {
    "name": "ipython",
    "version": 3
   },
   "file_extension": ".py",
   "mimetype": "text/x-python",
   "name": "python",
   "nbconvert_exporter": "python",
   "pygments_lexer": "ipython3",
   "version": "3.7.4"
  }
 },
 "nbformat": 4,
 "nbformat_minor": 2
}
