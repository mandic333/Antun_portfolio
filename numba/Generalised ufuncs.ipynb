{
 "cells": [
  {
   "cell_type": "markdown",
   "metadata": {},
   "source": [
    "# Creating Generalized Ufuncs with Numba\n",
    "\n",
    "Numba offers the `guvectorize` to generate **generalized ufuncs** which work of input arrays with different dimensions."
   ]
  },
  {
   "cell_type": "code",
   "execution_count": 1,
   "metadata": {},
   "outputs": [],
   "source": [
    "import numpy as np\n",
    "import numba"
   ]
  },
  {
   "cell_type": "markdown",
   "metadata": {},
   "source": [
    "## Adding a constant to a vector"
   ]
  },
  {
   "cell_type": "code",
   "execution_count": 2,
   "metadata": {},
   "outputs": [],
   "source": [
    "@numba.guvectorize(['(f8[:], f8[:], f8[:])'], '(m),()->(m)')\n",
    "def vec_add_const(x, y, z):\n",
    "    for i in range(x.shape[0]):\n",
    "        z[i] = x[i] + y[0]"
   ]
  },
  {
   "cell_type": "code",
   "execution_count": 3,
   "metadata": {},
   "outputs": [
    {
     "name": "stdout",
     "output_type": "stream",
     "text": [
      "[0. 1. 2. 3. 4. 5. 6. 7. 8. 9.]\n",
      "[ 2.  3.  4.  5.  6.  7.  8.  9. 10. 11.]\n"
     ]
    }
   ],
   "source": [
    "x = np.arange(10.0)\n",
    "z = vec_add_const(x, 2.0)\n",
    "print(x, z, sep='\\n')"
   ]
  },
  {
   "cell_type": "code",
   "execution_count": 4,
   "metadata": {},
   "outputs": [
    {
     "name": "stdout",
     "output_type": "stream",
     "text": [
      "[[0. 1. 2. 3. 4.]\n",
      " [5. 6. 7. 8. 9.]]\n",
      "[[ 2.  3.  4.  5.  6.]\n",
      " [ 7.  8.  9. 10. 11.]]\n"
     ]
    }
   ],
   "source": [
    "x = np.arange(10.0).reshape(2, 5)\n",
    "z = vec_add_const(x, 2.0)\n",
    "print(x, z, sep='\\n')"
   ]
  },
  {
   "cell_type": "code",
   "execution_count": 5,
   "metadata": {},
   "outputs": [
    {
     "name": "stdout",
     "output_type": "stream",
     "text": [
      "[[0. 1. 2. 3. 4.]\n",
      " [5. 6. 7. 8. 9.]]\n",
      "[[ 1.  2.  3.  4.  5.]\n",
      " [ 7.  8.  9. 10. 11.]]\n"
     ]
    }
   ],
   "source": [
    "x = np.arange(10.0).reshape(2, 5)\n",
    "y = np.array([1., 2.])\n",
    "z = vec_add_const(x, y)\n",
    "print(x, z, sep='\\n')"
   ]
  },
  {
   "cell_type": "markdown",
   "metadata": {},
   "source": [
    "## Matrix Vector Multiplication"
   ]
  },
  {
   "cell_type": "code",
   "execution_count": 6,
   "metadata": {},
   "outputs": [],
   "source": [
    "@numba.guvectorize(['(f8[:, :], f8[:], f8[:])'], '(m,n),(n)->(m)')\n",
    "def mat_vec_mult(x, y, z):\n",
    "    for i in range(x.shape[0]):\n",
    "        d = 0.0\n",
    "        for j in range(x.shape[1]):\n",
    "            d += x[i, j] * y[j]\n",
    "        z[i] = d"
   ]
  },
  {
   "cell_type": "code",
   "execution_count": 7,
   "metadata": {},
   "outputs": [
    {
     "name": "stdout",
     "output_type": "stream",
     "text": [
      "[[0. 1. 2.]\n",
      " [3. 4. 5.]\n",
      " [6. 7. 8.]]\n",
      "\n",
      "[ 8. 26. 44.]\n"
     ]
    }
   ],
   "source": [
    "A = np.arange(9.0).reshape(3, 3)\n",
    "x = np.array([1., 2., 3.])\n",
    "z = mat_vec_mult(A, x)\n",
    "print(A, z, sep='\\n\\n')"
   ]
  },
  {
   "cell_type": "code",
   "execution_count": 8,
   "metadata": {},
   "outputs": [
    {
     "name": "stdout",
     "output_type": "stream",
     "text": [
      "[[[ 0.  1.  2.]\n",
      "  [ 3.  4.  5.]\n",
      "  [ 6.  7.  8.]]\n",
      "\n",
      " [[ 9. 10. 11.]\n",
      "  [12. 13. 14.]\n",
      "  [15. 16. 17.]]\n",
      "\n",
      " [[18. 19. 20.]\n",
      "  [21. 22. 23.]\n",
      "  [24. 25. 26.]]]\n",
      "\n",
      "[[  8.  26.  44.]\n",
      " [ 62.  80.  98.]\n",
      " [116. 134. 152.]]\n"
     ]
    }
   ],
   "source": [
    "A = np.arange(27.0).reshape(3, 3, 3)\n",
    "x = np.array([1., 2., 3])\n",
    "z = mat_vec_mult(A, x)\n",
    "print(A, z, sep='\\n\\n')"
   ]
  },
  {
   "cell_type": "markdown",
   "metadata": {},
   "source": [
    "## Matrix-Matrix Multiplication"
   ]
  },
  {
   "cell_type": "code",
   "execution_count": 9,
   "metadata": {},
   "outputs": [],
   "source": [
    "@numba.guvectorize(['(f8[:, :], f8[:, :], f8[:, :])'], '(m,n),(n,k)->(m, k)')\n",
    "def mat_mul(x, y, z):\n",
    "    for i in range(x.shape[0]):\n",
    "        for j in range(y.shape[1]):\n",
    "            d = 0.0\n",
    "            for k in range(x.shape[1]):\n",
    "                d += x[i, k] * y[k, j]\n",
    "            z[i, j] = d"
   ]
  },
  {
   "cell_type": "code",
   "execution_count": 11,
   "metadata": {},
   "outputs": [
    {
     "name": "stdout",
     "output_type": "stream",
     "text": [
      "[[ 52.  55.  58.  61.  64.]\n",
      " [178. 190. 202. 214. 226.]\n",
      " [304. 325. 346. 367. 388.]]\n",
      "\n",
      "[[ 52.  55.  58.  61.  64.]\n",
      " [178. 190. 202. 214. 226.]\n",
      " [304. 325. 346. 367. 388.]]\n"
     ]
    }
   ],
   "source": [
    "A = np.arange(9.0).reshape(3, 3)\n",
    "B = np.arange(9.0, 24.0).reshape(3, 5)\n",
    "C = mat_mul(A, B)\n",
    "C_numpy = A @ B\n",
    "print(C, C_numpy, sep='\\n\\n')"
   ]
  }
 ],
 "metadata": {
  "kernelspec": {
   "display_name": "Python 3",
   "language": "python",
   "name": "python3"
  },
  "language_info": {
   "codemirror_mode": {
    "name": "ipython",
    "version": 3
   },
   "file_extension": ".py",
   "mimetype": "text/x-python",
   "name": "python",
   "nbconvert_exporter": "python",
   "pygments_lexer": "ipython3",
   "version": "3.7.4"
  }
 },
 "nbformat": 4,
 "nbformat_minor": 2
}
